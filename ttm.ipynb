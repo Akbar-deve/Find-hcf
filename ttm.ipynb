{
  "nbformat": 4,
  "nbformat_minor": 0,
  "metadata": {
    "colab": {
      "provenance": [],
      "authorship_tag": "ABX9TyNVhQdiiK7UMhH4BlGFoflq",
      "include_colab_link": true
    },
    "kernelspec": {
      "name": "python3",
      "display_name": "Python 3"
    },
    "language_info": {
      "name": "python"
    }
  },
  "cells": [
    {
      "cell_type": "markdown",
      "metadata": {
        "id": "view-in-github",
        "colab_type": "text"
      },
      "source": [
        "<a href=\"https://colab.research.google.com/github/Akbar-deve/Find-hcf/blob/main/ttm.ipynb\" target=\"_parent\"><img src=\"https://colab.research.google.com/assets/colab-badge.svg\" alt=\"Open In Colab\"/></a>"
      ]
    },
    {
      "cell_type": "code",
      "execution_count": 1,
      "metadata": {
        "colab": {
          "base_uri": "https://localhost:8080/"
        },
        "id": "PJ1xxRQgDjAH",
        "outputId": "df63bc52-6fe4-4bb2-d95f-68b9abf04450"
      },
      "outputs": [
        {
          "output_type": "stream",
          "name": "stdout",
          "text": [
            "   Id        Login   Password\n",
            "0   1      JohnDoe  987340123\n",
            "1   2  AnnFranklin  187031122\n"
          ]
        }
      ],
      "source": [
        "import pandas as pd\n",
        "import numpy as np\n",
        "\n",
        "def login_table(id_name_verified, id_password):\n",
        "    id_name_verified[\"Password\"] = id_password[:,1]\n",
        "\n",
        "id_name_verified = pd.DataFrame([[1,\"JohnDoe\",True],[2,\"AnnFranklin\",False]], \n",
        "columns=[\"Id\",\"Login\",\"Verified\"])\n",
        "id_password = np.array([[1,987340123],[2,187031122]],np.int32)\n",
        "login_table(id_name_verified, id_password)\n",
        "\n",
        "id_name_verified = id_name_verified.drop(columns=[\"Verified\"])\n",
        "\n",
        "print(id_name_verified)"
      ]
    },
    {
      "cell_type": "code",
      "source": [
        "from collections import OrderedDict, Counter\n",
        "class LeagueTable:\n",
        "    def __init__(self, players):\n",
        "        self.standings = OrderedDict([(player, Counter()) for player in players])\n",
        "       \n",
        "    def record_result(self, player, score):\n",
        "        self.standings[player]['games_played'] += 1\n",
        "        self.standings[player]['score'] += score\n",
        "      \n",
        "    def player_rank(self, rank):\n",
        "        sorted_players = sorted(self.standings.keys(), key=lambda player: (-self.standings[player]['score'], self.standings[player]['games_played'], list(self.standings.keys()).index(player)))\n",
        "        if rank < 1 or rank > len(sorted_players):\n",
        "            raise ValueError(\"Invalid rank.\")\n",
        "        \n",
        "        return sorted_players[rank - 1]\n",
        "\n",
        "if __name__ == \"__main__\":\n",
        "    table = LeagueTable(['Mike', 'Chris', 'Arnold'])\n",
        "    table.record_result('Mike', 2)\n",
        "    table.record_result('Mike', 3)\n",
        "    table.record_result('Arnold', 5)\n",
        "    table.record_result('Chris', 5)\n",
        "    print(table.player_rank(1))"
      ],
      "metadata": {
        "colab": {
          "base_uri": "https://localhost:8080/"
        },
        "id": "zCoNiaENDsuo",
        "outputId": "fd9cba05-2479-4ee2-e68f-176fe6e12ec3"
      },
      "execution_count": 4,
      "outputs": [
        {
          "output_type": "stream",
          "name": "stdout",
          "text": [
            "Chris\n"
          ]
        }
      ]
    },
    {
      "cell_type": "code",
      "source": [
        "def count_numbers(sorted_list, less_than):\n",
        "    count = 0\n",
        "    for num in sorted_list:\n",
        "        if num < less_than:\n",
        "            count += 1\n",
        "        else:\n",
        "            break\n",
        "    return count\n",
        "\n",
        "if __name__ == \"__main__\":\n",
        "    sorted_list = [1, 3, 5, 7]\n",
        "    print(count_numbers(sorted_list, 4))"
      ],
      "metadata": {
        "colab": {
          "base_uri": "https://localhost:8080/"
        },
        "id": "KsY9XscrEAoC",
        "outputId": "7635f93b-d702-4379-b5be-5a32a76528be"
      },
      "execution_count": 7,
      "outputs": [
        {
          "output_type": "stream",
          "name": "stdout",
          "text": [
            "2\n"
          ]
        }
      ]
    },
    {
      "cell_type": "markdown",
      "source": [
        "select regions.name , nvl((sum(sales.amount)/count(distinct employeeid)),0) average_sales, nvl((select max(avg(amount)) from sales group by employeeid)-(sum(sales.amount)/count(distinct employeeid)),0) t from regions , states , employees , sales where regions.id=regionid(+) and states.id=stateid(+) and employees.id=employeeid(+) group by regions.name;"
      ],
      "metadata": {
        "id": "v6BZ__CrEK-w"
      }
    }
  ]
}